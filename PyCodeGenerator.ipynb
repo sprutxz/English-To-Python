{
  "cells": [
    {
      "cell_type": "markdown",
      "metadata": {
        "colab_type": "text",
        "id": "view-in-github"
      },
      "source": [
        "<a href=\"https://colab.research.google.com/github/sprutxz/English-To-Python/blob/main/EnglishToPython.ipynb\" target=\"_parent\"><img src=\"https://colab.research.google.com/assets/colab-badge.svg\" alt=\"Open In Colab\"/></a>"
      ]
    },
    {
      "cell_type": "code",
      "execution_count": null,
      "metadata": {
        "id": "xSdUCIuxC2kc"
      },
      "outputs": [],
      "source": [
        "# Importing libraries\n",
        "import pandas as pd\n",
        "import numpy as np\n",
        "import matplotlib.pyplot as plt\n",
        "import seaborn as sns\n",
        "from timeit import default_timer as timer\n",
        "\n",
        "import torch\n",
        "import torch.nn as nn\n",
        "from torch.nn.utils.rnn import pad_sequence\n",
        "import torch.optim as optim\n",
        "from torch.utils.data import TensorDataset, DataLoader\n",
        "import torchtext\n",
        "from torchtext.data import get_tokenizer\n",
        "from torchtext.vocab import build_vocab_from_iterator\n",
        "import tokenize\n",
        "import io\n",
        "from sklearn.model_selection import train_test_split\n",
        "import re\n",
        "import nltk\n",
        "from nltk.stem import PorterStemmer\n",
        "\n",
        "# Setting the device for model\n",
        "device = torch.device(\"cuda\" if torch.cuda.is_available() else \"cpu\")\n",
        "\n",
        "%matplotlib inline"
      ]
    },
    {
      "cell_type": "code",
      "execution_count": null,
      "metadata": {
        "id": "tajY8nrvDW13"
      },
      "outputs": [],
      "source": [
        "# Retrieving the data\n",
        "!wget \"https://drive.google.com/u/0/uc?id=1rHb0FQ5z5ZpaY2HpyFGY6CeyDG0kTLoO&export=download\" -O english_python_data.txt"
      ]
    },
    {
      "cell_type": "code",
      "execution_count": null,
      "metadata": {
        "id": "ebw75vi2DZp_"
      },
      "outputs": [],
      "source": [
        "# Examining the dataset\n",
        "with open('english_python_data.txt',\"r\") as data_file:\n",
        "  print(data_file.readlines()[:5]) # Printing out the first 5 lines of the data"
      ]
    },
    {
      "cell_type": "code",
      "execution_count": null,
      "metadata": {
        "id": "39OhkMrlDaSH"
      },
      "outputs": [],
      "source": [
        "# Creating a Regular Expression (Regex) pattern of urls to remove them\n",
        "url_pattern = re.compile(r\"https?://\\S+\")\n",
        "\n",
        "# Making a dataset\n",
        "with open('english_python_data.txt',\"r\") as data_file:\n",
        "  data_lines = data_file.readlines()\n",
        "  dps = [] # List of dictionaries\n",
        "  dp = None # The current problem and solution\n",
        "  for line in data_lines:\n",
        "    if line[0] == \"#\":\n",
        "      if dp:\n",
        "        dp['solution'] = ''.join(dp['solution'])\n",
        "        dps.append(dp)\n",
        "      dp = {\"question\": None, \"solution\": []}\n",
        "      dp['question'] = line[1:].strip(\"\\n \") # Removing any \\n in the question\n",
        "      dp['question'] = re.sub(r'^\\d+ ', \"\", dp['question']) # If the question starts with numbers, I remove them.\n",
        "      dp['question'] = url_pattern.sub('',dp['question']) # Replacing any urls\n",
        "      dp['question'] = dp['question'].lower() # lowercasing the question\n",
        "      dp['question'] = re.sub(r\"([.!?])\",\"\",dp['question']) # removing any punctuation\n",
        "    else:\n",
        "      dp[\"solution\"].append(line)\n",
        "\n",
        "# converting the data to a table for easier viewing\n",
        "dataset = pd.DataFrame(dps)\n",
        "dataset"
      ]
    },
    {
      "cell_type": "code",
      "execution_count": null,
      "metadata": {
        "id": "8qTVVnZaDb6O"
      },
      "outputs": [],
      "source": [
        "# Looking at the first question and the corresponding solution\n",
        "print(dataset.loc[0,'question'])\n",
        "print(dataset.loc[0,'solution'])"
      ]
    },
    {
      "cell_type": "code",
      "execution_count": null,
      "metadata": {
        "id": "J0G0Tp5yZ0aR"
      },
      "outputs": [],
      "source": [
        "# Creating dictionaries for the tokenizers and the vocabularies\n",
        "SRC_LANGUAGE = 'en'\n",
        "TGT_LANGUAGE = 'python'\n",
        "\n",
        "tokenizers = {}\n",
        "vocabularies = {}\n",
        "\n",
        "tokenizers[SRC_LANGUAGE] = get_tokenizer('spacy',language='en_core_web_sm')\n",
        "tokenizers[TGT_LANGUAGE] = get_tokenizer('spacy',language='en_core_web_sm')\n",
        "\n",
        "# Generating special characters and their indicies\n",
        "UNK_IDX, PAD_IDX, BOS_IDX, EOS_IDX = 0, 1, 2, 3 # Tokens for Unknown, Padding, beginning of sentence, end of sentence\n",
        "special_symbols = ['<unk>','<pad>','<bos>','<eos>']\n",
        "\n",
        "# Generating the tokens\n",
        "# This function returns\n",
        "def yield_tokens(data_iter, language):\n",
        "  for data_sample in data_iter:\n",
        "    yield tokenizers[SRC_LANGUAGE](data_sample)\n",
        "\n",
        "# Generating the tokens and making the vocabularies based off of them\n",
        "for language in [SRC_LANGUAGE, TGT_LANGUAGE]:\n",
        "  if language == SRC_LANGUAGE:\n",
        "    vocabularies[language] = build_vocab_from_iterator(yield_tokens(dataset['question'],language),min_freq=1,specials=special_symbols,special_first=True)\n",
        "  else:\n",
        "    vocabularies[language] = build_vocab_from_iterator(yield_tokens(dataset['solution'],language),min_freq=1,specials=special_symbols,special_first=True)\n",
        "\n",
        "for ln in [SRC_LANGUAGE, TGT_LANGUAGE]:\n",
        "  vocabularies[ln].set_default_index(UNK_IDX) # Setting the unknown index to be the default index when a token isn't found"
      ]
    },
    {
      "cell_type": "code",
      "execution_count": null,
      "metadata": {
        "id": "j3AiKmKwd8Xp"
      },
      "outputs": [],
      "source": [
        "# Viewing how big our vocabularies are\n",
        "print(vocabularies[SRC_LANGUAGE].__len__())\n",
        "print(vocabularies[TGT_LANGUAGE].__len__())"
      ]
    },
    {
      "cell_type": "code",
      "execution_count": null,
      "metadata": {
        "id": "hDDjIeJdeohw"
      },
      "outputs": [],
      "source": [
        "# Looking up a word in the vocabulary\n",
        "print(vocabularies[SRC_LANGUAGE]['write'])"
      ]
    },
    {
      "cell_type": "code",
      "execution_count": null,
      "metadata": {
        "id": "l-4VEO2Oe25o"
      },
      "outputs": [],
      "source": [
        "from torch import Tensor\n",
        "import torch\n",
        "import torch.nn as nn\n",
        "from torch.nn import Transformer\n",
        "import math\n",
        "DEVICE = torch.device('cuda' if torch.cuda.is_available() else 'cpu')\n",
        "\n",
        "# Positional Encoding module -> this class is the positional encoder (see above for details)\n",
        "class PositionalEncoding(nn.Module):\n",
        "  def __init__(self,emb_size:int, dropout:float, maxlen:int = 5000):\n",
        "    super(PositionalEncoding,self).__init__()\n",
        "    den = torch.exp(-torch.arange(0,emb_size,2)*math.log(10000) / emb_size)\n",
        "    pos = torch.arange(0,maxlen).reshape(maxlen,1)\n",
        "    pos_embedding = torch.zeros((maxlen,emb_size))\n",
        "    pos_embedding[:,0::2] = torch.sin(pos * den)\n",
        "    pos_embedding[:,1::2] = torch.cos(pos * den)\n",
        "    pos_embedding = pos_embedding.unsqueeze(-2)\n",
        "\n",
        "    self.dropout = nn.Dropout(dropout)\n",
        "\n",
        "    # Saving the positional encoding in the model state dict, but making sure PyTorch doesn't \"train\"\n",
        "    # these parameters because they don't need to be trained\n",
        "    self.register_buffer('pos_embedding',pos_embedding)\n",
        "\n",
        "  def forward(self,token_embedding: Tensor):\n",
        "    return self.dropout(token_embedding + self.pos_embedding[:token_embedding.size(0), :])\n",
        "\n",
        "# Converting the tokens into embeddings\n",
        "class TokenEmbedding(nn.Module):\n",
        "  def __init__(self,vocab_size: int, emb_size):\n",
        "    super(TokenEmbedding, self).__init__()\n",
        "    self.embedding = nn.Embedding(vocab_size,emb_size)\n",
        "    self.embed_size = emb_size\n",
        "\n",
        "  def forward(self,tokens:Tensor):\n",
        "    return self.embedding(tokens.long()) * math.sqrt(self.embed_size) # we multiply by square root of embedding size to scale. The Transformer paper mentions this.\n",
        "\n",
        "# The Actual Model\n",
        "class Seq2SeqTransformer(nn.Module):\n",
        "  def __init__(self, num_encoder_layers:int, num_decoder_layers:int, emb_size:int, nhead:int, src_vocab_size:int, tgt_vocab_size:int, dim_feedforward: int=512, dropout:float = 0.1):\n",
        "    super(Seq2SeqTransformer, self).__init__()\n",
        "    self.transformer = nn.Transformer(d_model=emb_size, nhead=nhead, num_encoder_layers=num_encoder_layers, num_decoder_layers=num_decoder_layers,dim_feedforward=dim_feedforward,dropout=dropout,\n",
        "                                      batch_first=True)\n",
        "    self.generator = nn.Linear(emb_size,tgt_vocab_size) # A layer to convert the matrix (seq_len, emb_size) to (seq_len, tgt_vocab_size)\n",
        "    self.src_tok_emb = TokenEmbedding(src_vocab_size, emb_size)\n",
        "    self.tgt_tok_emb = TokenEmbedding(tgt_vocab_size,emb_size)\n",
        "\n",
        "    # Getting the positional encodings\n",
        "    self.positional_encoding = PositionalEncoding(emb_size,dropout=dropout)\n",
        "\n",
        "  def forward(self, src:Tensor, trg: Tensor, src_mask: Tensor, tgt_mask: Tensor, src_padding_mask: Tensor, tgt_padding_mask: Tensor,\n",
        "              memory_key_padding_mask: Tensor):\n",
        "\n",
        "    # Embedding both the input and output\n",
        "    src_embedding = self.positional_encoding(self.src_tok_emb(src))\n",
        "    tgt_embedding = self.positional_encoding(self.tgt_tok_emb(trg))\n",
        "\n",
        "    # Getting the output\n",
        "    output = self.transformer(src_embedding, tgt_embedding, src_mask, tgt_mask, None, src_padding_mask,tgt_padding_mask,memory_key_padding_mask)\n",
        "\n",
        "    # Getting the logits\n",
        "    return self.generator(output)\n",
        "\n",
        "  # Encoding the input\n",
        "  def encode(self, src: Tensor, src_mask: Tensor):\n",
        "    embedding = self.positional_encoding(self.src_tok_emb(src))\n",
        "    encoder_output = self.transformer.encoder(embedding, src_mask)\n",
        "    return encoder_output\n",
        "\n",
        "  # Decoding the output\n",
        "  def decode(self,tgt:Tensor, memory: Tensor, tgt_mask:Tensor):\n",
        "    tgt_embedding = self.tgt_tok_emb(tgt)\n",
        "    return self.transformer.decoder(self.positional_encoding(tgt_embedding),memory, tgt_mask)\n"
      ]
    },
    {
      "cell_type": "code",
      "execution_count": null,
      "metadata": {
        "id": "-Teu_4Usi7Vl"
      },
      "outputs": [],
      "source": [
        "# Defining the lookahead mask that will prevent the model from looking ahead during training\n",
        "# Also need to define masks that will mask the padding tokens.\n",
        "# If we don't mask the padding tokens, the model will end up taking the values of the padding into account\n",
        "# into prediction\n",
        "\n",
        "# Generating the lookahead mask\n",
        "def generate_square_subsequent_mask(sz):\n",
        "  mask = (torch.triu(torch.ones((sz,sz),device=DEVICE)) == 1).transpose(0,1)\n",
        "  mask = mask.float().masked_fill(mask == 0, float('-inf')).masked_fill(mask == 1, float(0.0))\n",
        "  return mask\n",
        "\n",
        "# Creating the other mask\n",
        "def create_mask(src, tgt):\n",
        "  src_seq_len = src.shape[1]\n",
        "  tgt_seq_len = tgt.shape[1]\n",
        "\n",
        "  tgt_mask = generate_square_subsequent_mask(tgt_seq_len)\n",
        "  src_mask = torch.zeros((src_seq_len, src_seq_len),device=DEVICE).type(torch.bool)\n",
        "\n",
        "  src_padding_mask = (src == PAD_IDX)\n",
        "  tgt_padding_mask = (tgt == PAD_IDX)\n",
        "  return src_mask, tgt_mask, src_padding_mask, tgt_padding_mask"
      ]
    },
    {
      "cell_type": "code",
      "execution_count": null,
      "metadata": {
        "id": "qjIQzZENjLgw"
      },
      "outputs": [],
      "source": [
        "# Splitting the data into training and testing\n",
        "training, testing = train_test_split(dataset,test_size=0.2,random_state=42,shuffle=True)\n",
        "\n",
        "# Running the data through a pipeline to get the transformed and prepared dataset\n",
        "# helper function to club together sequential operations\n",
        "def sequential_transforms(*transforms):\n",
        "  def func(txt_input):\n",
        "    for transform in transforms:\n",
        "      txt_input = transform(txt_input)\n",
        "    return txt_input\n",
        "  return func\n",
        "\n",
        "# Function to add BOS/EOS and create tensor for input sequence indicies\n",
        "def tensor_transform(token_ids):\n",
        "  return torch.cat((torch.tensor([BOS_IDX]),torch.tensor(token_ids),torch.tensor([EOS_IDX])))\n",
        "\n",
        "text_transform = {}\n",
        "for ln in [SRC_LANGUAGE, TGT_LANGUAGE]:\n",
        "  text_transform[ln] = sequential_transforms(tokenizers[ln],vocabularies[ln],tensor_transform) # Tokenize, Convert to Indicies, then Add Special Tokens\n",
        "\n",
        "# function to put all the data samples into batches\n",
        "def collate_fn(batch):\n",
        "  src_batch, tgt_batch = [], []\n",
        "\n",
        "  # Iterating through the questions\n",
        "  for X in batch['question'].values:\n",
        "    src_batch.append(text_transform[SRC_LANGUAGE](X.strip('\\n\\t')))\n",
        "\n",
        "  # Iterating through the solutions\n",
        "  for y in batch['solution'].values:\n",
        "    tgt_batch.append(text_transform[TGT_LANGUAGE](y.strip('\\n\\t')))\n",
        "\n",
        "  src_batch = pad_sequence(src_batch, padding_value=PAD_IDX)\n",
        "  tgt_batch = pad_sequence(tgt_batch, padding_value=PAD_IDX)\n",
        "  return src_batch.T, tgt_batch.T"
      ]
    },
    {
      "cell_type": "code",
      "execution_count": null,
      "metadata": {
        "id": "wZUdqI_WkrPp"
      },
      "outputs": [],
      "source": [
        "# Defining the model, loss function, and optimizer\n",
        "torch.manual_seed(10)\n",
        "\n",
        "SRC_VOCAB_SIZE = len(vocabularies[SRC_LANGUAGE])\n",
        "TGT_VOCAB_SIZE = len(vocabularies[TGT_LANGUAGE])\n",
        "EMB_SIZE = 128\n",
        "NHEAD = 4\n",
        "FFN_HID_DIM = 128\n",
        "BATCH_SIZE = 15\n",
        "NUM_ENCODER_LAYERS = 3\n",
        "NUM_DECODER_LAYERS = 3\n",
        "\n",
        "# Defining the model\n",
        "transformer = Seq2SeqTransformer(NUM_ENCODER_LAYERS, NUM_DECODER_LAYERS, EMB_SIZE, NHEAD, SRC_VOCAB_SIZE, TGT_VOCAB_SIZE, FFN_HID_DIM)\n",
        "\n",
        "# Setting the parameters using the xavier uniform distribution\n",
        "for p in transformer.parameters():\n",
        "  if p.dim() > 1:\n",
        "    nn.init.xavier_uniform_(p)\n",
        "\n",
        "# Putting the model on GPU\n",
        "transformer = transformer.to(DEVICE)\n",
        "\n",
        "# Defining the loss function\n",
        "loss_fn = torch.nn.CrossEntropyLoss(ignore_index=PAD_IDX) # makes sure that the padding token doesn't contribute to the loss function!\n",
        "\n",
        "# Defining the optimizer\n",
        "optimizer = torch.optim.Adam(transformer.parameters(),lr=0.0001)"
      ]
    },
    {
      "cell_type": "code",
      "execution_count": null,
      "metadata": {
        "id": "21DZ5Z-Vkb0h"
      },
      "outputs": [],
      "source": [
        "def train_epoch(model,optimizer):\n",
        "  # Setting the model to training mode\n",
        "  model.train()\n",
        "  losses = 0\n",
        "\n",
        "  # Preparing the data\n",
        "  X,y = collate_fn(training)\n",
        "  training_dataset = TensorDataset(X,y)\n",
        "  train_dataloader = DataLoader(training_dataset, batch_size=BATCH_SIZE)\n",
        "\n",
        "  # Iterating through the data\n",
        "  for src, tgt in train_dataloader:\n",
        "    src = src.to(DEVICE)\n",
        "    tgt = tgt.to(DEVICE)\n",
        "\n",
        "    tgt_input = tgt[:,:-1] # Getting the sentence except the EOS since EOS is never inputted to decoder\n",
        "\n",
        "    # Getting the masks\n",
        "    src_mask, tgt_mask, src_padding_mask, tgt_padding_mask = create_mask(src, tgt_input)\n",
        "    logits = model(src,tgt_input, src_mask, tgt_mask, src_padding_mask,tgt_padding_mask,src_padding_mask) # memory is the encoder outputs\n",
        "\n",
        "    optimizer.zero_grad()\n",
        "    tgt_out = tgt[:,1:]\n",
        "    loss = loss_fn(logits.reshape(logits.size(0),-1,1827),tgt_out)\n",
        "    loss.backward() # Back propagation, calculating the gradients\n",
        "\n",
        "    optimizer.step()\n",
        "    losses += loss.item()\n",
        "\n",
        "  return losses / len(list(train_dataloader)) # Getting the average loss per example\n",
        "\n",
        "# Evaluation Loop\n",
        "def evaluate(model):\n",
        "  model.eval()\n",
        "  losses = 0\n",
        "\n",
        "  # Preparing the data\n",
        "  X,y = collate_fn(testing)\n",
        "  testing_data = TensorDataset(X,y)\n",
        "  val_dataloader = DataLoader(testing_data, batch_size=BATCH_SIZE)\n",
        "\n",
        "  # Iterating through the data\n",
        "  for src, tgt in val_dataloader:\n",
        "    src = src.to(DEVICE)\n",
        "    tgt = tgt.to(DEVICE)\n",
        "\n",
        "    tgt_input = tgt[:,:-1] # Getting the sentence except the EOS since EOS is never inputted to decoder\n",
        "\n",
        "    # Getting the masks\n",
        "    src_mask, tgt_mask, src_padding_mask, tgt_padding_mask = create_mask(src, tgt_input)\n",
        "    logits = model(src,tgt_input, src_mask, tgt_mask, src_padding_mask,tgt_padding_mask,src_padding_mask) # memory is the encoder outputs\n",
        "    tgt_out = tgt[:,1:]\n",
        "    loss = loss_fn(logits.reshape(-1,logits.shape[-1]),tgt_out.reshape(-1))\n",
        "    losses += loss.item()\n",
        "\n",
        "  return losses / len(list(val_dataloader)) # Getting the average loss per example"
      ]
    },
    {
      "cell_type": "code",
      "execution_count": null,
      "metadata": {
        "id": "rSY56XkuoP9j"
      },
      "outputs": [],
      "source": [
        "# Training the model\n",
        "NUM_EPOCHS = 5\n",
        "\n",
        "for epoch in range(1,NUM_EPOCHS+1):\n",
        "  start_time = timer()\n",
        "  train_loss = train_epoch(transformer, optimizer)\n",
        "  end_time = timer()\n",
        "  val_loss = evaluate(transformer)\n",
        "  print(f'Epoch: {epoch}, Train loss: {train_loss:.3f}, Val loss: {val_loss:.3f}')\n",
        "  print(f'Epoch time: {(end_time - start_time):.3f}s')"
      ]
    },
    {
      "cell_type": "code",
      "execution_count": null,
      "metadata": {
        "id": "Nh0p7PyNoXX7"
      },
      "outputs": [],
      "source": [
        "# A function to generate the output sequence autoregressively using the greedy decoder algorithm\n",
        "# Usually, we would utilize something like beam search\n",
        "def greedy_decode(model, src, max_len, start_symbol):\n",
        "  src = src.to(DEVICE)\n",
        "  memory = model.encode(src.view(1,-1), None)\n",
        "  memory = memory.to(DEVICE)\n",
        "  ys = torch.ones(1, 1).fill_(start_symbol).type(torch.long).to(DEVICE)\n",
        "  for i in range(max_len-1):\n",
        "      out = model.decode(ys.view(1,-1), memory, None)\n",
        "      prob = nn.functional.softmax(model.generator(out[:, -1]),dim=1)\n",
        "      _, next_word = torch.max(prob, dim=1)\n",
        "      next_word = next_word.item()\n",
        "\n",
        "      ys = torch.cat([ys,torch.ones(1, 1).type_as(src.data).fill_(next_word)], dim=0)\n",
        "      if next_word == EOS_IDX:\n",
        "          break\n",
        "  return ys\n",
        "\n",
        "# Function for translation\n",
        "def translate(model: torch.nn.Module, src_sentence: str):\n",
        "  model.eval()\n",
        "  src = text_transform[SRC_LANGUAGE](src_sentence).view(-1, 1)\n",
        "  num_tokens = src.shape[0]\n",
        "  tgt_tokens = greedy_decode(model,  src, max_len=num_tokens + 5, start_symbol=BOS_IDX).flatten()\n",
        "  return \" \".join(vocabularies[TGT_LANGUAGE].lookup_tokens(list(tgt_tokens.cpu().numpy()))).replace(\"<bos>\", \"\").replace(\"<eos>\", \"\")"
      ]
    },
    {
      "cell_type": "code",
      "execution_count": null,
      "metadata": {
        "id": "EGcMx_GL5MNl"
      },
      "outputs": [],
      "source": [
        "# Trying to translate from English to Python\n",
        "print(translate(transformer, \"Give me a function to add 3 numbers.\"))"
      ]
    },
    {
      "cell_type": "code",
      "execution_count": null,
      "metadata": {
        "id": "NbirFWKWGRmr"
      },
      "outputs": [],
      "source": []
    }
  ],
  "metadata": {
    "accelerator": "TPU",
    "colab": {
      "include_colab_link": true,
      "provenance": []
    },
    "kernelspec": {
      "display_name": "Python 3",
      "name": "python3"
    },
    "language_info": {
      "name": "python"
    }
  },
  "nbformat": 4,
  "nbformat_minor": 0
}
