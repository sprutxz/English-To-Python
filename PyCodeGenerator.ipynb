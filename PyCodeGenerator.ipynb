{
  "cells": [
    {
      "cell_type": "markdown",
      "metadata": {
        "colab_type": "text",
        "id": "view-in-github"
      },
      "source": [
        "<a href=\"https://colab.research.google.com/github/sprutxz/English-To-Python/blob/main/EnglishToPython.ipynb\" target=\"_parent\"><img src=\"https://colab.research.google.com/assets/colab-badge.svg\" alt=\"Open In Colab\"/></a>"
      ]
    },
    {
      "cell_type": "code",
      "execution_count": 3,
      "metadata": {
        "id": "xSdUCIuxC2kc"
      },
      "outputs": [],
      "source": [
        "# Importing libraries\n",
        "import pandas as pd\n",
        "import numpy as np\n",
        "import matplotlib.pyplot as plt\n",
        "import seaborn as sns\n",
        "from timeit import default_timer as timer\n",
        "import math\n",
        "\n",
        "import torch\n",
        "import torch.nn as nn\n",
        "from torch import Tensor\n",
        "from torch.nn import Transformer\n",
        "import math\n",
        "from torch.nn.utils.rnn import pad_sequence\n",
        "import torch.optim as optim\n",
        "from torch.utils.data import TensorDataset, DataLoader, random_split\n",
        "from torchtext.data import get_tokenizer\n",
        "from torchtext.vocab import build_vocab_from_iterator\n",
        "import gensim\n",
        "from gensim.models import Word2Vec\n",
        "from gensim.utils import tokenize as gensim_tokenize\n",
        "import io\n",
        "import re\n",
        "#from nltk.stem import PorterStemmer\n",
        "\n",
        "# Setting the device for model\n",
        "DEVICE = torch.device(\"cuda\" if torch.cuda.is_available() else \"cpu\")\n",
        "\n",
        "%matplotlib inline"
      ]
    },
    {
      "cell_type": "code",
      "execution_count": 134,
      "metadata": {
        "id": "ebw75vi2DZp_"
      },
      "outputs": [
        {
          "name": "stdout",
          "output_type": "stream",
          "text": [
            "['# write a python program to add two numbers \\n', 'num1 = 1.5\\n', 'num2 = 6.3\\n', 'sum = num1 + num2\\n', \"print(f'Sum: {sum}')\\n\", '\\n', '\\n', '# write a python function to add two user provided numbers and return the sum\\n', 'def add_two_numbers(num1, num2):\\n', '    sum = num1 + num2\\n', '    return sum\\n']\n"
          ]
        }
      ],
      "source": [
        "# Examining the dataset\n",
        "with open('english_python_data.txt',\"r\") as data_file:\n",
        "  print(data_file.readlines()[:11]) # Printing out the last 5 lines of the data"
      ]
    },
    {
      "cell_type": "code",
      "execution_count": 2,
      "metadata": {},
      "outputs": [],
      "source": [
        "#helper fucntion to calculate tab size\n",
        "def tab_size_func(spaces):\n",
        "    tab_size = 0\n",
        "    if spaces%4 == 0:\n",
        "        tab_size = 4\n",
        "    elif spaces%3 == 0:\n",
        "        tab_size = 3\n",
        "    elif spaces%2 == 0:\n",
        "        tab_size = 2\n",
        "    else:\n",
        "        tab_size = 0\n",
        "    return tab_size    "
      ]
    },
    {
      "cell_type": "code",
      "execution_count": 12,
      "metadata": {
        "id": "39OhkMrlDaSH"
      },
      "outputs": [
        {
          "data": {
            "text/html": [
              "<div>\n",
              "<style scoped>\n",
              "    .dataframe tbody tr th:only-of-type {\n",
              "        vertical-align: middle;\n",
              "    }\n",
              "\n",
              "    .dataframe tbody tr th {\n",
              "        vertical-align: top;\n",
              "    }\n",
              "\n",
              "    .dataframe thead th {\n",
              "        text-align: right;\n",
              "    }\n",
              "</style>\n",
              "<table border=\"1\" class=\"dataframe\">\n",
              "  <thead>\n",
              "    <tr style=\"text-align: right;\">\n",
              "      <th></th>\n",
              "      <th>question</th>\n",
              "      <th>solution</th>\n",
              "    </tr>\n",
              "  </thead>\n",
              "  <tbody>\n",
              "    <tr>\n",
              "      <th>0</th>\n",
              "      <td>write a python program to add two numbers</td>\n",
              "      <td>num1 = 1.5\\nnum2 = 6.3\\nsum = num1 + num2\\npri...</td>\n",
              "    </tr>\n",
              "    <tr>\n",
              "      <th>1</th>\n",
              "      <td>write a python function to add two user provid...</td>\n",
              "      <td>\\tdef add_two_numbers(num1, num2):\\n\\tsum = nu...</td>\n",
              "    </tr>\n",
              "    <tr>\n",
              "      <th>2</th>\n",
              "      <td>write a program to find and print the largest ...</td>\n",
              "      <td>num1 = 10\\nnum2 = 12\\nnum3 = 14\\nif (num1 &gt;= n...</td>\n",
              "    </tr>\n",
              "    <tr>\n",
              "      <th>3</th>\n",
              "      <td>write a program to find and print the smallest...</td>\n",
              "      <td>num1 = 10\\nnum2 = 12\\nnum3 = 14\\n\\tif (num1 &lt;=...</td>\n",
              "    </tr>\n",
              "    <tr>\n",
              "      <th>4</th>\n",
              "      <td>write a python function to merge two given lis...</td>\n",
              "      <td>\\tdef merge_lists(l1, l2):\\n\\treturn l1 + l2\\n...</td>\n",
              "    </tr>\n",
              "    <tr>\n",
              "      <th>...</th>\n",
              "      <td>...</td>\n",
              "      <td>...</td>\n",
              "    </tr>\n",
              "    <tr>\n",
              "      <th>4968</th>\n",
              "      <td>write a program to print bit wise and of two n...</td>\n",
              "      <td>a = 60            # 60 = 0011 1100\\nb = 13    ...</td>\n",
              "    </tr>\n",
              "    <tr>\n",
              "      <th>4969</th>\n",
              "      <td>write a program to print bit wise or of two nu...</td>\n",
              "      <td>a = 60\\nb = 13\\nc = a | b\\nprint(\"OR\", c)</td>\n",
              "    </tr>\n",
              "    <tr>\n",
              "      <th>4970</th>\n",
              "      <td>write a program to print bit wise xor of two n...</td>\n",
              "      <td>a = 60\\nb = 13\\nc = a ^ b\\nprint(\"XOR\", c)</td>\n",
              "    </tr>\n",
              "    <tr>\n",
              "      <th>4971</th>\n",
              "      <td>write a program to calculate binary ones compl...</td>\n",
              "      <td>a = 60\\nc = ~a\\nprint(\"Binary Ones Complement\"...</td>\n",
              "    </tr>\n",
              "    <tr>\n",
              "      <th>4972</th>\n",
              "      <td>write a program to binary left shift a number</td>\n",
              "      <td>c = a &lt;&lt; 2\\n\\tprint(\"Binary Left Shift\", c)\\n\\...</td>\n",
              "    </tr>\n",
              "  </tbody>\n",
              "</table>\n",
              "<p>4973 rows × 2 columns</p>\n",
              "</div>"
            ],
            "text/plain": [
              "                                               question  \\\n",
              "0             write a python program to add two numbers   \n",
              "1     write a python function to add two user provid...   \n",
              "2     write a program to find and print the largest ...   \n",
              "3     write a program to find and print the smallest...   \n",
              "4     write a python function to merge two given lis...   \n",
              "...                                                 ...   \n",
              "4968  write a program to print bit wise and of two n...   \n",
              "4969  write a program to print bit wise or of two nu...   \n",
              "4970  write a program to print bit wise xor of two n...   \n",
              "4971  write a program to calculate binary ones compl...   \n",
              "4972      write a program to binary left shift a number   \n",
              "\n",
              "                                               solution  \n",
              "0     num1 = 1.5\\nnum2 = 6.3\\nsum = num1 + num2\\npri...  \n",
              "1     \\tdef add_two_numbers(num1, num2):\\n\\tsum = nu...  \n",
              "2     num1 = 10\\nnum2 = 12\\nnum3 = 14\\nif (num1 >= n...  \n",
              "3     num1 = 10\\nnum2 = 12\\nnum3 = 14\\n\\tif (num1 <=...  \n",
              "4     \\tdef merge_lists(l1, l2):\\n\\treturn l1 + l2\\n...  \n",
              "...                                                 ...  \n",
              "4968  a = 60            # 60 = 0011 1100\\nb = 13    ...  \n",
              "4969          a = 60\\nb = 13\\nc = a | b\\nprint(\"OR\", c)  \n",
              "4970         a = 60\\nb = 13\\nc = a ^ b\\nprint(\"XOR\", c)  \n",
              "4971  a = 60\\nc = ~a\\nprint(\"Binary Ones Complement\"...  \n",
              "4972  c = a << 2\\n\\tprint(\"Binary Left Shift\", c)\\n\\...  \n",
              "\n",
              "[4973 rows x 2 columns]"
            ]
          },
          "execution_count": 12,
          "metadata": {},
          "output_type": "execute_result"
        }
      ],
      "source": [
        "# Creating a Regular Expression (Regex) pattern of urls to remove them\n",
        "url_pattern = re.compile(r\"https?://\\S+\")\n",
        "\n",
        "src_doc = []\n",
        "tgt_doc = []\n",
        "tokenizer = get_tokenizer('spacy',language='en_core_web_sm') #tokenizer function for the text\n",
        "\n",
        "# Making a dataset\n",
        "with open('english_python_data.txt',\"r\") as data_file:\n",
        "  data_lines = data_file.readlines()\n",
        "  dps = [] # List of dictionaries\n",
        "  dp = None # The current problem and solution\n",
        "  for line in data_lines:\n",
        "    if line[0] == \"#\":\n",
        "      tab_count = 0\n",
        "      loop_indent = 0\n",
        "      if dp:\n",
        "        dp['solution'] = ''.join(dp['solution'])\n",
        "        dp['solution'] = re.sub(r'\\n+', '\\n', dp['solution']) #replaces multiple newlines with a single newline\n",
        "        dp['solution'] = dp['solution'].strip('\\n') # Removing any \\n in the solution\n",
        "        \n",
        "        # newline_chars = re.finditer(r':\\n', dp['solution']) #finds all newlines\n",
        "        \n",
        "        # indent_words = re.finditer(r'if|else|elif|for|while|def|class|try|except|finally|with', dp['solution']) #finds all keywords\n",
        "        \n",
        "        \n",
        "        \n",
        "        # postion_move = 0\n",
        "        \n",
        "        # for newline in newline_chars:\n",
        "        #   query_pos = newline.end() - postion_move #finds the position of the newline\n",
        "        #   tab_size = tab_size_func(len(re.findall(r' ', dp['solution'][query_pos:query_pos+5]))) #finds the number of spaces after the newline\n",
        "        #   postion_move += tab_size\n",
        "        #   if tab_size > 1:\n",
        "        #     dp['solution'] = re.sub(fr'(\\n\\t*)\\s{{{tab_size}}}', lambda match: match.group(1) + '\\t', dp['solution']) #replaces the spaces with a tab\n",
        "          \n",
        "        \n",
        "        # x = re.findall(r'\\n\\t  ', dp['solution']) #finds all newlines followed by a tab and a space\n",
        "        # if x:\n",
        "        #   print(x)\n",
        "        #   print(repr(dp['solution']))\n",
        "          \n",
        "        tgt_doc.append(tokenizer(dp['solution']))  \n",
        "        dps.append(dp)\n",
        "      dp = {\"question\": None, \"solution\": []}\n",
        "      dp['question'] = line[1:].strip(\"\\n \") # Removing any \\n in the question\n",
        "      dp['question'] = re.sub(r'^\\d+ ', \"\", dp['question']) # If the question starts with numbers, I remove them.\n",
        "      dp['question'] = url_pattern.sub('',dp['question']) # Replacing any urls\n",
        "      dp['question'] = dp['question'].lower() # lowercasing the question\n",
        "      dp['question'] = re.sub(r\"([.!?])\",\"\",dp['question']) # removing any punctuation\n",
        "      src_doc.append(tokenizer(dp['question'])) # Splitting the question into words\n",
        "    else:\n",
        "      line = re.sub(r'( |\\t)*\\n( |\\t)*', '\\n', line) #replaces spaces before a newline with a  just a newline\n",
        "      if re.search(r'if|else|elif|for|while|def|class|try|except|finally|with', line):\n",
        "        tab_count += 1 \n",
        "        \n",
        "      x = re.search(r'\\S', line) \n",
        "      if x != None:\n",
        "        space_count = len(re.findall(r'\\s', line[0:x.start()]))\n",
        "      if loop_indent > space_count:\n",
        "        tab_count -= 1\n",
        "\n",
        "      loop_indent = space_count\n",
        "      \n",
        "      if space_count > 0:\n",
        "        line = re.sub(r'^ *', '\\t'*tab_count, line)#replaces the first space with a tab\n",
        "      \n",
        "      \n",
        "      dp['solution'].append(line)\n",
        "      \n",
        "\n",
        "# converting the data to a table for easier viewing\n",
        "dataset = pd.DataFrame(dps)\n",
        "dataset"
      ]
    },
    {
      "cell_type": "code",
      "execution_count": 4,
      "metadata": {},
      "outputs": [
        {
          "name": "stdout",
          "output_type": "stream",
          "text": [
            "['num']\n"
          ]
        }
      ],
      "source": [
        "text = '''\n",
        "num2 = 6.3\\n\n",
        "'''\n",
        "\n",
        "tokens = gensim_tokenize(text)\n",
        "print(list(tokens))"
      ]
    },
    {
      "cell_type": "code",
      "execution_count": 8,
      "metadata": {},
      "outputs": [
        {
          "name": "stdout",
          "output_type": "stream",
          "text": [
            "'\\t\\thello'\n"
          ]
        }
      ],
      "source": [
        "line = \"     hello\"\n",
        "tab_count = 2\n",
        "line = re.sub(r'^ *', '\\t'*tab_count, line)\n",
        "print(repr(line))"
      ]
    },
    {
      "cell_type": "code",
      "execution_count": 132,
      "metadata": {},
      "outputs": [
        {
          "name": "stdout",
          "output_type": "stream",
          "text": [
            "'\\n\\thello'\n"
          ]
        }
      ],
      "source": [
        "line = \"\\n\\thello\"\n",
        "\n",
        "line = re.sub(fr'(\\n\\t*)\\s{{{4}}}', lambda match: match.group(1) + '\\t', line) #replaces the spaces with a tab\n",
        "print(repr(line))"
      ]
    },
    {
      "cell_type": "code",
      "execution_count": 25,
      "metadata": {},
      "outputs": [
        {
          "name": "stdout",
          "output_type": "stream",
          "text": [
            "True\n",
            "'\\nhello:\\n'\n"
          ]
        }
      ],
      "source": [
        "line = '''\n",
        "hello:\n",
        "'''\n",
        "\n",
        "if (re.search(r'(:\\n)$', line)):\n",
        "    print(True)\n",
        "        \n",
        "print(repr(line))\n"
      ]
    },
    {
      "cell_type": "code",
      "execution_count": 73,
      "metadata": {
        "id": "8qTVVnZaDb6O"
      },
      "outputs": [
        {
          "name": "stdout",
          "output_type": "stream",
          "text": [
            "write a python program to add two numbers\n",
            "num1 = 1.5\n",
            "num2 = 6.3\n",
            "sum = num1 + num2\n",
            "print(f'Sum: {sum}')\n"
          ]
        }
      ],
      "source": [
        "# Looking at the first question and the corresponding solution\n",
        "print(dataset.loc[0,'question'])\n",
        "print(dataset.loc[0,'solution'])"
      ]
    },
    {
      "cell_type": "code",
      "execution_count": 169,
      "metadata": {},
      "outputs": [
        {
          "name": "stdout",
          "output_type": "stream",
          "text": [
            "\"num1 = 1.5\\nnum2 = 6.3\\nsum = num1 + num2\\nprint(f'Sum: {sum}')\"\n",
            "'def add_two_numbers(num1, num2):\\n\\tsum = num1 + num2\\n\\treturn sum'\n",
            "\"num1 = 10\\nnum2 = 12\\nnum3 = 14\\nif (num1 >= num2) and (num1 >= num3):\\n\\tlargest = num1\\nelif (num2 >= num1) and (num2 >= num3):\\n\\tlargest = num2\\nelse:\\n\\tlargest = num3\\nprint(f'largest:{largest}')\"\n",
            "\"num1 = 10\\nnum2 = 12\\nnum3 = 14\\nif (num1 <= num2) and (num1 <= num3):\\n\\tsmallest = num1\\nelif (num2 <= num1) and (num2 <= num3):\\n\\tsmallest = num2\\nelse:\\n\\tsmallest = num3\\nprint(f'smallest:{smallest}')\"\n",
            "'def merge_lists(l1, l2):\\n\\treturn l1 + l2'\n",
            "'num = 337\\nif num > 1:\\n\\tfor i in range(2, num//2 + 1):\\n\\tif (num % i) == 0:\\n\\t\\t\\t  print(num,\"is not a prime number\")\\n\\t\\t\\t  print(f\"{i} times {num//i} is {num}\")\\n\\t\\t\\t  break\\n\\telse:\\n\\tprint(f\"{num} is a prime number\")\\nelse:\\n\\tprint(f\"{num} is not a prime number\")'\n",
            "'def print_factors(x):\\n\\tprint(f\"The factors of {x} are:\")\\n\\tfor i in range(1, x + 1):\\n\\t\\tif x % i == 0:\\n\\t\\t\\tprint(i)'\n",
            "'num = 13\\nfactorial = 1\\nif num < 0:\\n\\tprint(\"No factorials for negative numbers!\")\\nelif num == 0:\\n\\tprint(\"The factorial of 0 is 1\")\\nelse:\\n\\tfor i in range(1,num + 1):\\n\\t\\tfactorial = factorial*i\\n\\tprint(f\"The factorial of {num} is {factorial}\")'\n",
            "'def check_pnz(num):\\n\\tif num > 0:\\n\\t\\tprint(\"Positive number\")\\n\\telif num == 0:\\n\\t\\tprint(\"Zero\")\\n\\telse:\\n\\t\\tprint(\"Negative number\")'\n",
            "'num = 9\\nfor i in range(1, 11):\\n\\tprint(f\"{num} x {i} = {num*i}\")'\n"
          ]
        }
      ],
      "source": [
        "for i, solution in enumerate(dataset['solution']):\n",
        "    if i < 10:\n",
        "        print(repr(solution))"
      ]
    },
    {
      "cell_type": "code",
      "execution_count": 170,
      "metadata": {
        "id": "J0G0Tp5yZ0aR"
      },
      "outputs": [],
      "source": [
        "# Creating dictionaries for the tokenizers and the vocabularies\n",
        "SRC_LANGUAGE = 'en'\n",
        "TGT_LANGUAGE = 'python'\n",
        "\n",
        "vocabularies = {}\n",
        "\n",
        "# Generating special characters and their indicies\n",
        "UNK_IDX, PAD_IDX, SOS_IDX, EOS_IDX = 0, 1, 2, 3 # Tokens for Unknown, Padding, start of sentence, end of sentence\n",
        "special_symbols = ['<unk>','<pad>','<sos>','<eos>']\n",
        "\n",
        "# Generating the tokens\n",
        "# This function returns\n",
        "def yield_tokens(data_iter):\n",
        "  for data_sample in data_iter:\n",
        "    yield tokenizer(data_sample)\n",
        "\n",
        "# Generating the tokens and making the vocabularies based off of them for SRC_LANGUAGE and TGT_LANGUAGE\n",
        "vocabularies[SRC_LANGUAGE] = build_vocab_from_iterator(yield_tokens(dataset['question']),min_freq=1,specials=special_symbols,special_first=True)\n",
        "    \n",
        "vocabularies[TGT_LANGUAGE] = build_vocab_from_iterator(yield_tokens(dataset['solution']),min_freq=1,specials=special_symbols,special_first=True)\n",
        "\n",
        "for ln in [SRC_LANGUAGE, TGT_LANGUAGE]:\n",
        "  vocabularies[ln].set_default_index(UNK_IDX) # Setting the unknown index to be the default index when a token isn't found"
      ]
    },
    {
      "cell_type": "code",
      "execution_count": 189,
      "metadata": {},
      "outputs": [],
      "source": [
        "for line in dataset['solution']:\n",
        "    tgt_doc.append(tokenizer(line)) "
      ]
    },
    {
      "cell_type": "code",
      "execution_count": 171,
      "metadata": {},
      "outputs": [
        {
          "name": "stdout",
          "output_type": "stream",
          "text": [
            "length of english vocab: 2404\n",
            "length of python vocab: 11576\n"
          ]
        }
      ],
      "source": [
        "# Viewing how big our vocabularies are\n",
        "print(f\"length of english vocab: {vocabularies[SRC_LANGUAGE].__len__()}\")\n",
        "print(f\"length of python vocab: {vocabularies[TGT_LANGUAGE].__len__()}\")"
      ]
    },
    {
      "cell_type": "code",
      "execution_count": 76,
      "metadata": {},
      "outputs": [
        {
          "data": {
            "text/plain": [
              "(1978378, 3707360)"
            ]
          },
          "execution_count": 76,
          "metadata": {},
          "output_type": "execute_result"
        }
      ],
      "source": [
        "src_emb = Word2Vec(src_doc,vector_size=128,workers=3,min_count=1,window=10,sg=0) # Creating a word2vec model for the source language\n",
        "src_emb.train(src_doc,total_examples=src_emb.corpus_count,epochs=20) # Training the model\n",
        "\n",
        "tgt_emb = Word2Vec(tgt_doc,vector_size=128,workers=3,min_count=1,window=10,sg=0) # Creating a word2vec model for the target language\n",
        "tgt_emb.train(tgt_doc,total_examples=tgt_emb.corpus_count,epochs=20) # Training the model"
      ]
    },
    {
      "cell_type": "code",
      "execution_count": 77,
      "metadata": {},
      "outputs": [
        {
          "name": "stdout",
          "output_type": "stream",
          "text": [
            "word2vec src vocab: (2402, 128)\n",
            "word2vec tgt vocab: (11536, 128)\n"
          ]
        }
      ],
      "source": [
        "print(f\"word2vec src vocab: {src_emb.wv.vectors.shape}\")\n",
        "print(f\"word2vec tgt vocab: {tgt_emb.wv.vectors.shape}\")"
      ]
    },
    {
      "cell_type": "code",
      "execution_count": 20,
      "metadata": {},
      "outputs": [
        {
          "name": "stdout",
          "output_type": "stream",
          "text": [
            "set()\n"
          ]
        }
      ],
      "source": [
        "# Assuming vocab is your vocab object and w2v_model is your word2vec model\n",
        "vocab_words = set(vocabularies[TGT_LANGUAGE].get_itos())  # Get words from vocab\n",
        "w2v_words = set(tgt_emb.wv.index_to_key)  # Get words from word2vec vocab\n",
        "\n",
        "\n",
        "\n",
        "diff = w2v_words - vocab_words\n",
        "\n",
        "\n",
        "print(diff)"
      ]
    },
    {
      "cell_type": "code",
      "execution_count": 17,
      "metadata": {
        "id": "l-4VEO2Oe25o"
      },
      "outputs": [],
      "source": [
        "# Positional Encoding module -> this class is the positional encoder (see above for details)\n",
        "class PositionalEncoding(nn.Module):\n",
        "  def __init__(self,emb_size:int, dropout:float, maxlen:int = 5000):\n",
        "    super().__init__()\n",
        "    den = torch.exp(-torch.arange(0,emb_size,2)*math.log(10000) / emb_size)\n",
        "    pos = torch.arange(0,maxlen).reshape(maxlen,1)\n",
        "    pos_embedding = torch.zeros((maxlen,emb_size))\n",
        "    pos_embedding[:,0::2] = torch.sin(pos * den)\n",
        "    pos_embedding[:,1::2] = torch.cos(pos * den)\n",
        "    pos_embedding = pos_embedding.unsqueeze(-2)\n",
        "\n",
        "    self.dropout = nn.Dropout(dropout)\n",
        "\n",
        "    # Saving the positional encoding in the model state dict, but making sure PyTorch doesn't \"train\"\n",
        "    # these parameters because they don't need to be trained\n",
        "    self.register_buffer('pos_embedding',pos_embedding)\n",
        "\n",
        "  def forward(self,token_embedding: Tensor):\n",
        "    return self.dropout(token_embedding + self.pos_embedding[:token_embedding.size(0), :])\n",
        "\n",
        "# # Converting the tokens into embeddings\n",
        "# class TokenEmbedding(nn.Module):\n",
        "#   def __init__(self,vocab_size: int, emb_size):\n",
        "#     super().__init__()\n",
        "#     self.embedding = nn.Embedding(vocab_size,emb_size)\n",
        "#     self.embed_size = emb_size\n",
        "\n",
        "#   def forward(self,tokens:Tensor):\n",
        "#     return self.embedding(tokens.long()) * math.sqrt(self.embed_size) # we multiply by square root of embedding size to scale. The Transformer paper mentions this.\n",
        "\n",
        "class TokenEmbedding(nn.Module):\n",
        "  def __init__(self, vocab_size: int, emb_size: int, word2vec_model_path: str):\n",
        "    super().__init__()\n",
        "    self.word2vec_model = Word2Vec(document,vector_size=128,workers=3,min_count=2,window=10,sg=1) # Creating a word2vec model for the source language\n",
        "    self.word2vec_model.train(document,total_examples=self.word2vec_model.corpus_count,epochs=10) # Training the model\n",
        "    self.embedding = nn.Embedding(vocab_size, emb_size)\n",
        "    self.embed_size = emb_size\n",
        "\n",
        "    # Initialize the embedding weights with the Word2Vec vectors\n",
        "    self.embedding.weight.data.copy_(torch.from_numpy(self.word2vec_model.wv.vectors))\n",
        "\n",
        "  def forward(self, tokens: Tensor):\n",
        "    return self.embedding(tokens.long()) * math.sqrt(self.embed_size)\n",
        "  \n",
        "    \n",
        "\n",
        "# The Actual Model\n",
        "class Seq2SeqTransformer(nn.Module):\n",
        "  def __init__(self, num_encoder_layers:int, num_decoder_layers:int, emb_size:int, nhead:int, src_vocab_size:int, tgt_vocab_size:int, dim_feedforward: int=512, dropout:float = 0.1):\n",
        "    super().__init__()\n",
        "    self.transformer = nn.Transformer(d_model=emb_size, nhead=nhead, num_encoder_layers=num_encoder_layers, num_decoder_layers=num_decoder_layers,dim_feedforward=dim_feedforward,dropout=dropout,\n",
        "                                      batch_first=True)\n",
        "    self.generator = nn.Linear(emb_size,tgt_vocab_size) # A layer to convert the matrix (seq_len, emb_size) to (seq_len, tgt_vocab_size)\n",
        "    self.src_tok_emb = TokenEmbedding(src_vocab_size, emb_size)\n",
        "    self.tgt_tok_emb = TokenEmbedding(tgt_vocab_size,emb_size)\n",
        "\n",
        "    # Getting the positional encodings\n",
        "    self.positional_encoding = PositionalEncoding(emb_size,dropout=dropout)\n",
        "\n",
        "  def forward(self, src:Tensor, trg: Tensor, src_mask: Tensor, tgt_mask: Tensor, src_padding_mask: Tensor, tgt_padding_mask: Tensor,\n",
        "              memory_key_padding_mask: Tensor):\n",
        "\n",
        "    # Embedding both the input and output\n",
        "    src_embedding = self.positional_encoding(self.src_tok_emb(src))\n",
        "    tgt_embedding = self.positional_encoding(self.tgt_tok_emb(trg))\n",
        "\n",
        "    # Getting the output\n",
        "    output = self.transformer(src_embedding, tgt_embedding, src_mask, tgt_mask, None, src_padding_mask,tgt_padding_mask,memory_key_padding_mask)\n",
        "\n",
        "    # Getting the logits\n",
        "    return self.generator(output)\n",
        "  \n",
        "\n",
        "  # Encoding the input\n",
        "  def encode(self, src: Tensor, src_mask: Tensor):\n",
        "    embedding = self.positional_encoding(self.src_tok_emb(src))\n",
        "    encoder_output = self.transformer.encoder(embedding, src_mask)\n",
        "    return encoder_output\n",
        "\n",
        "  # Decoding the output\n",
        "  def decode(self,tgt:Tensor, memory: Tensor, tgt_mask:Tensor):\n",
        "    tgt_embedding = self.tgt_tok_emb(tgt)\n",
        "    return self.transformer.decoder(self.positional_encoding(tgt_embedding), memory, tgt_mask)\n"
      ]
    },
    {
      "cell_type": "code",
      "execution_count": 18,
      "metadata": {
        "id": "-Teu_4Usi7Vl"
      },
      "outputs": [],
      "source": [
        "# Defining the lookahead mask that will prevent the model from looking ahead during training\n",
        "# Also need to define masks that will mask the padding tokens.\n",
        "# If we don't mask the padding tokens, the model will end up taking the values of the padding into account\n",
        "# into prediction\n",
        "\n",
        "# Generating the lookahead mask\n",
        "def generate_square_subsequent_mask(sz):\n",
        "  mask = (torch.triu(torch.ones((sz,sz),device=DEVICE)) == 1).transpose(0,1)\n",
        "  mask = mask.float().masked_fill(mask == 0, float('-inf')).masked_fill(mask == 1, float(0.0))\n",
        "  return mask\n",
        "\n",
        "# Creating the other mask\n",
        "def create_mask(src, tgt):\n",
        "  src_seq_len = src.shape[1]\n",
        "  tgt_seq_len = tgt.shape[1]\n",
        "\n",
        "  tgt_mask = generate_square_subsequent_mask(tgt_seq_len)\n",
        "  src_mask = torch.zeros((src_seq_len, src_seq_len),device=DEVICE).type(torch.bool)\n",
        "\n",
        "  src_padding_mask = (src == PAD_IDX)\n",
        "  tgt_padding_mask = (tgt == PAD_IDX)\n",
        "  return src_mask, tgt_mask, src_padding_mask, tgt_padding_mask"
      ]
    },
    {
      "cell_type": "code",
      "execution_count": 19,
      "metadata": {
        "id": "qjIQzZENjLgw"
      },
      "outputs": [],
      "source": [
        "# Splitting the data into training and testing\n",
        "#training, testing = train_test_split(dataset,test_size=0.2,random_state=42,shuffle=True)\n",
        "\n",
        "train_size = int(len(dataset)*0.8)\n",
        "test_size = len(dataset) - train_size\n",
        "training, testing = random_split(dataset,[train_size,test_size])\n",
        "\n",
        "# Running the data through a pipeline to get the transformed and prepared dataset\n",
        "# helper function to club together sequential operations\n",
        "def sequential_transforms(*transforms):\n",
        "  def func(txt_input):\n",
        "    for transform in transforms:\n",
        "      txt_input = transform(txt_input)\n",
        "    return txt_input\n",
        "  return func\n",
        "\n",
        "# Function to add BOS/EOS and create tensor for input sequence indicies\n",
        "def tensor_transform(token_ids):\n",
        "  return torch.cat((torch.tensor([SOS_IDX]),torch.tensor(token_ids),torch.tensor([EOS_IDX])))\n",
        "\n",
        "text_transform = {}\n",
        "for ln in [SRC_LANGUAGE, TGT_LANGUAGE]:\n",
        "  text_transform[ln] = sequential_transforms(tokenizer,vocabularies[ln],tensor_transform) # Tokenize, Convert to Indicies, then Add Special Tokens\n",
        "\n",
        "# function to put all the data samples into batches\n",
        "def collate_fn(batch):\n",
        "  src_batch, tgt_batch = [], []\n",
        "\n",
        "  # Iterating through the questions\n",
        "  for X in batch.dataset['question'].values:\n",
        "    src_batch.append(text_transform[SRC_LANGUAGE](X.strip('\\n\\t')))\n",
        "\n",
        "  # Iterating through the solutions\n",
        "  for y in batch.dataset['solution'].values:\n",
        "    tgt_batch.append(text_transform[TGT_LANGUAGE](y.strip('\\n\\t')))\n",
        "\n",
        "  src_batch = pad_sequence(src_batch, padding_value=PAD_IDX)\n",
        "  tgt_batch = pad_sequence(tgt_batch, padding_value=PAD_IDX)\n",
        "  return src_batch.T, tgt_batch.T"
      ]
    },
    {
      "cell_type": "code",
      "execution_count": 20,
      "metadata": {
        "id": "wZUdqI_WkrPp"
      },
      "outputs": [
        {
          "ename": "TypeError",
          "evalue": "TokenEmbedding.__init__() missing 1 required positional argument: 'word2vec_model_path'",
          "output_type": "error",
          "traceback": [
            "\u001b[0;31m---------------------------------------------------------------------------\u001b[0m",
            "\u001b[0;31mTypeError\u001b[0m                                 Traceback (most recent call last)",
            "Cell \u001b[0;32mIn[20], line 14\u001b[0m\n\u001b[1;32m     11\u001b[0m NUM_DECODER_LAYERS \u001b[38;5;241m=\u001b[39m \u001b[38;5;241m3\u001b[39m\n\u001b[1;32m     13\u001b[0m \u001b[38;5;66;03m# Defining the model\u001b[39;00m\n\u001b[0;32m---> 14\u001b[0m transformer \u001b[38;5;241m=\u001b[39m \u001b[43mSeq2SeqTransformer\u001b[49m\u001b[43m(\u001b[49m\u001b[43mNUM_ENCODER_LAYERS\u001b[49m\u001b[43m,\u001b[49m\u001b[43m \u001b[49m\u001b[43mNUM_DECODER_LAYERS\u001b[49m\u001b[43m,\u001b[49m\u001b[43m \u001b[49m\u001b[43mEMB_SIZE\u001b[49m\u001b[43m,\u001b[49m\u001b[43m \u001b[49m\u001b[43mNHEAD\u001b[49m\u001b[43m,\u001b[49m\u001b[43m \u001b[49m\u001b[43mSRC_VOCAB_SIZE\u001b[49m\u001b[43m,\u001b[49m\u001b[43m \u001b[49m\u001b[43mTGT_VOCAB_SIZE\u001b[49m\u001b[43m,\u001b[49m\u001b[43m \u001b[49m\u001b[43mFFN_HID_DIM\u001b[49m\u001b[43m)\u001b[49m\n\u001b[1;32m     16\u001b[0m \u001b[38;5;66;03m# Setting the parameters using the xavier uniform distribution\u001b[39;00m\n\u001b[1;32m     17\u001b[0m \u001b[38;5;28;01mfor\u001b[39;00m p \u001b[38;5;129;01min\u001b[39;00m transformer\u001b[38;5;241m.\u001b[39mparameters():\n",
            "Cell \u001b[0;32mIn[17], line 51\u001b[0m, in \u001b[0;36mSeq2SeqTransformer.__init__\u001b[0;34m(self, num_encoder_layers, num_decoder_layers, emb_size, nhead, src_vocab_size, tgt_vocab_size, dim_feedforward, dropout)\u001b[0m\n\u001b[1;32m     48\u001b[0m \u001b[38;5;28mself\u001b[39m\u001b[38;5;241m.\u001b[39mtransformer \u001b[38;5;241m=\u001b[39m nn\u001b[38;5;241m.\u001b[39mTransformer(d_model\u001b[38;5;241m=\u001b[39memb_size, nhead\u001b[38;5;241m=\u001b[39mnhead, num_encoder_layers\u001b[38;5;241m=\u001b[39mnum_encoder_layers, num_decoder_layers\u001b[38;5;241m=\u001b[39mnum_decoder_layers,dim_feedforward\u001b[38;5;241m=\u001b[39mdim_feedforward,dropout\u001b[38;5;241m=\u001b[39mdropout,\n\u001b[1;32m     49\u001b[0m                                   batch_first\u001b[38;5;241m=\u001b[39m\u001b[38;5;28;01mTrue\u001b[39;00m)\n\u001b[1;32m     50\u001b[0m \u001b[38;5;28mself\u001b[39m\u001b[38;5;241m.\u001b[39mgenerator \u001b[38;5;241m=\u001b[39m nn\u001b[38;5;241m.\u001b[39mLinear(emb_size,tgt_vocab_size) \u001b[38;5;66;03m# A layer to convert the matrix (seq_len, emb_size) to (seq_len, tgt_vocab_size)\u001b[39;00m\n\u001b[0;32m---> 51\u001b[0m \u001b[38;5;28mself\u001b[39m\u001b[38;5;241m.\u001b[39msrc_tok_emb \u001b[38;5;241m=\u001b[39m \u001b[43mTokenEmbedding\u001b[49m\u001b[43m(\u001b[49m\u001b[43msrc_vocab_size\u001b[49m\u001b[43m,\u001b[49m\u001b[43m \u001b[49m\u001b[43memb_size\u001b[49m\u001b[43m)\u001b[49m\n\u001b[1;32m     52\u001b[0m \u001b[38;5;28mself\u001b[39m\u001b[38;5;241m.\u001b[39mtgt_tok_emb \u001b[38;5;241m=\u001b[39m TokenEmbedding(tgt_vocab_size,emb_size)\n\u001b[1;32m     54\u001b[0m \u001b[38;5;66;03m# Getting the positional encodings\u001b[39;00m\n",
            "\u001b[0;31mTypeError\u001b[0m: TokenEmbedding.__init__() missing 1 required positional argument: 'word2vec_model_path'"
          ]
        }
      ],
      "source": [
        "# Defining the model, loss function, and optimizer\n",
        "torch.manual_seed(10)\n",
        "\n",
        "SRC_VOCAB_SIZE = len(vocabularies[SRC_LANGUAGE])\n",
        "TGT_VOCAB_SIZE = len(vocabularies[TGT_LANGUAGE])\n",
        "EMB_SIZE = 128\n",
        "NHEAD = 4\n",
        "FFN_HID_DIM = 128\n",
        "BATCH_SIZE = 8\n",
        "NUM_ENCODER_LAYERS = 3\n",
        "NUM_DECODER_LAYERS = 3\n",
        "\n",
        "# Defining the model\n",
        "transformer = Seq2SeqTransformer(NUM_ENCODER_LAYERS, NUM_DECODER_LAYERS, EMB_SIZE, NHEAD, SRC_VOCAB_SIZE, TGT_VOCAB_SIZE, FFN_HID_DIM)\n",
        "\n",
        "# Setting the parameters using the xavier uniform distribution\n",
        "for p in transformer.parameters():\n",
        "  if p.dim() > 1:\n",
        "    nn.init.xavier_uniform_(p)\n",
        "\n",
        "# Putting the model on GPU\n",
        "transformer = transformer.to(DEVICE)\n",
        "\n",
        "# Defining the loss function\n",
        "loss_fn = nn.CrossEntropyLoss(ignore_index=PAD_IDX) # makes sure that the padding token doesn't contribute to the loss function!\n",
        "\n",
        "# Defining the optimizer\n",
        "optimizer = optim.AdamW(transformer.parameters(),lr=0.0001)"
      ]
    },
    {
      "cell_type": "code",
      "execution_count": null,
      "metadata": {
        "id": "21DZ5Z-Vkb0h"
      },
      "outputs": [],
      "source": [
        "def train_epoch(model,optimizer):\n",
        "  # Setting the model to training mode\n",
        "  model.train()\n",
        "  losses = 0\n",
        "\n",
        "  # Preparing the data\n",
        "  X,y = collate_fn(training)\n",
        "  training_dataset = TensorDataset(X,y)\n",
        "  train_dataloader = DataLoader(training_dataset, batch_size=BATCH_SIZE)\n",
        "\n",
        "  # Iterating through the data\n",
        "  for src, tgt in train_dataloader:\n",
        "    src = src.to(DEVICE)\n",
        "    tgt = tgt.to(DEVICE)\n",
        "\n",
        "    tgt_input = tgt[:,:-1] # Getting the sentence except the EOS since EOS is never inputted to decoder\n",
        "\n",
        "    # Getting the masks\n",
        "    src_mask, tgt_mask, src_padding_mask, tgt_padding_mask = create_mask(src, tgt_input)\n",
        "    logits = model(src,tgt_input, src_mask, tgt_mask, src_padding_mask,tgt_padding_mask,src_padding_mask) # memory is the encoder outputs\n",
        "\n",
        "    optimizer.zero_grad()\n",
        "    tgt_out = tgt[:,1:]\n",
        "    loss = loss_fn(logits.reshape(logits.size(0),-1,1827),tgt_out)\n",
        "    loss.backward() # Back propagation, calculating the gradients\n",
        "\n",
        "    optimizer.step()\n",
        "    losses += loss.item()\n",
        "\n",
        "  return losses / len(list(train_dataloader)) # Getting the average loss per example\n",
        "\n",
        "# Evaluation Loop\n",
        "def evaluate(model):\n",
        "  model.eval()\n",
        "  losses = 0\n",
        "\n",
        "  # Preparing the data\n",
        "  X,y = collate_fn(testing)\n",
        "  testing_data = TensorDataset(X,y)\n",
        "  val_dataloader = DataLoader(testing_data, batch_size=BATCH_SIZE)\n",
        "\n",
        "  # Iterating through the data\n",
        "  for src, tgt in val_dataloader:\n",
        "    src = src.to(DEVICE)\n",
        "    tgt = tgt.to(DEVICE)\n",
        "\n",
        "    tgt_input = tgt[:,:-1] # Getting the sentence except the EOS since EOS is never inputted to decoder\n",
        "\n",
        "    # Getting the masks\n",
        "    src_mask, tgt_mask, src_padding_mask, tgt_padding_mask = create_mask(src, tgt_input)\n",
        "    logits = model(src,tgt_input, src_mask, tgt_mask, src_padding_mask,tgt_padding_mask,src_padding_mask) # memory is the encoder outputs\n",
        "    tgt_out = tgt[:,1:]\n",
        "    loss = loss_fn(logits.reshape(-1,logits.shape[-1]),tgt_out.reshape(-1))\n",
        "    losses += loss.item()\n",
        "\n",
        "  return losses / len(list(val_dataloader)) # Getting the average loss per example"
      ]
    },
    {
      "cell_type": "code",
      "execution_count": null,
      "metadata": {},
      "outputs": [],
      "source": [
        "# Training the model\n",
        "NUM_EPOCHS = 5\n",
        "\n",
        "for epoch in range(1,NUM_EPOCHS+1):\n",
        "  start_time = timer()\n",
        "  train_loss = train_epoch(transformer, optimizer)\n",
        "  end_time = timer()\n",
        "  val_loss = evaluate(transformer)\n",
        "  print(f'Epoch: {epoch}, Train loss: {train_loss:.3f}, Val loss: {val_loss:.3f}')\n",
        "  print(f'Epoch time: {(end_time - start_time):.3f}s')"
      ]
    },
    {
      "cell_type": "code",
      "execution_count": null,
      "metadata": {
        "id": "Nh0p7PyNoXX7"
      },
      "outputs": [],
      "source": [
        "# A function to generate the output sequence autoregressively using the greedy decoder algorithm\n",
        "# Usually, we would utilize something like beam search\n",
        "def greedy_decode(model, src, max_len, start_symbol):\n",
        "  src = src.to(DEVICE)\n",
        "  memory = model.encode(src.view(1,-1), None)\n",
        "  memory = memory.to(DEVICE)\n",
        "  ys = torch.ones(1, 1).fill_(start_symbol).type(torch.long).to(DEVICE)\n",
        "  for i in range(max_len-1):\n",
        "      out = model.decode(ys.view(1,-1), memory, None)\n",
        "      prob = nn.functional.softmax(model.generator(out[:, -1]),dim=1)\n",
        "      _, next_word = torch.max(prob, dim=1)\n",
        "      next_word = next_word.item()\n",
        "\n",
        "      ys = torch.cat([ys,torch.ones(1, 1).type_as(src.data).fill_(next_word)], dim=0)\n",
        "      if next_word == EOS_IDX:\n",
        "          break\n",
        "  return ys\n",
        "\n",
        "# Function for translation\n",
        "def translate(model: torch.nn.Module, src_sentence: str):\n",
        "  model.eval()\n",
        "  src = text_transform[SRC_LANGUAGE](src_sentence).view(-1, 1)\n",
        "  num_tokens = src.shape[0]\n",
        "  tgt_tokens = greedy_decode(model,  src, max_len=num_tokens + 5, start_symbol=SOS_IDX).flatten()\n",
        "  return \" \".join(vocabularies[TGT_LANGUAGE].lookup_tokens(list(tgt_tokens.cpu().numpy()))).replace(\"<sos>\", \"\").replace(\"<eos>\", \"\")"
      ]
    },
    {
      "cell_type": "code",
      "execution_count": null,
      "metadata": {
        "id": "EGcMx_GL5MNl"
      },
      "outputs": [
        {
          "name": "stdout",
          "output_type": "stream",
          "text": [
            " isLucky(next_position isLucky(next_position isLucky(next_position y':5874 y':5874 y':5874 add Traverse y':5874 left y':5874 print('do left Traverse y':5874\n"
          ]
        }
      ],
      "source": [
        "# Trying to translate from English to Python\n",
        "print(translate(transformer, \"Give me a function to add 3 numbers.\"))"
      ]
    }
  ],
  "metadata": {
    "accelerator": "TPU",
    "colab": {
      "include_colab_link": true,
      "provenance": []
    },
    "kernelspec": {
      "display_name": "Python 3",
      "name": "python3"
    },
    "language_info": {
      "codemirror_mode": {
        "name": "ipython",
        "version": 3
      },
      "file_extension": ".py",
      "mimetype": "text/x-python",
      "name": "python",
      "nbconvert_exporter": "python",
      "pygments_lexer": "ipython3",
      "version": "3.11.7"
    }
  },
  "nbformat": 4,
  "nbformat_minor": 0
}
